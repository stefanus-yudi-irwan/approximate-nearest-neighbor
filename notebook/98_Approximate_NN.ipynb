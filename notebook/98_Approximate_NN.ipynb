{
 "cells": [
  {
   "attachments": {},
   "cell_type": "markdown",
   "metadata": {},
   "source": [
    "## Aproximate Nearest Neighbor vs K Nearest Neighbor"
   ]
  },
  {
   "attachments": {},
   "cell_type": "markdown",
   "metadata": {},
   "source": [
    "## Import Library"
   ]
  },
  {
   "cell_type": "code",
   "execution_count": 25,
   "metadata": {},
   "outputs": [
    {
     "name": "stdout",
     "output_type": "stream",
     "text": [
      "WARNING:tensorflow:SavedModel saved prior to TF 2.5 detected when loading Keras model. Please ensure that you are saving the model with model.save() or tf.keras.models.save_model(), *NOT* tf.saved_model.save(). To confirm, there should be a file named \"keras_metadata.pb\" in the SavedModel directory.\n"
     ]
    }
   ],
   "source": [
    "# import basic library for data\n",
    "import numpy as np\n",
    "import pandas as pd\n",
    "import joblib\n",
    "\n",
    "# import sys library \n",
    "# and append src folder into path\n",
    "import sys\n",
    "sys.path.append(\"../\")\n",
    "\n",
    "# import approximate_nn and knn library\n",
    "from src.approximate_nn import ApproximateNearestNeighbor\n",
    "from src.approximate_nn import KNearestNeighbor\n",
    "\n",
    "# import word embedding model\n",
    "import tensorflow as tf\n",
    "embedding_nnlm = tf.keras.models.load_model(\"../../model/nnlm-id-dim50/\")"
   ]
  },
  {
   "attachments": {},
   "cell_type": "markdown",
   "metadata": {},
   "source": [
    "## A. Data Preparation"
   ]
  },
  {
   "cell_type": "code",
   "execution_count": 26,
   "metadata": {},
   "outputs": [
    {
     "name": "stdout",
     "output_type": "stream",
     "text": [
      " The shape of the feature file is : (93566, 50), the shape of the label file is : (93566,)\n"
     ]
    }
   ],
   "source": [
    "# load pickle data\n",
    "X_nnlm = joblib.load(\"../../data/processed/X_nnlm.pkl\")\n",
    "y_nnlm = joblib.load(\"../../data/processed/y_nnlm.pkl\")\n",
    "\n",
    "print(f\" The shape of the feature file is : {X_nnlm.shape}, the shape of the label file is : {y_nnlm.shape}\")"
   ]
  },
  {
   "cell_type": "code",
   "execution_count": 27,
   "metadata": {},
   "outputs": [
    {
     "data": {
      "text/plain": [
       "array([[ 0.10433888,  0.17144816, -0.22230932, ..., -0.13045134,\n",
       "         0.04030436,  0.07846453],\n",
       "       [ 0.05992552, -0.09452719, -0.15411599, ..., -0.26243606,\n",
       "         0.05033754,  0.09142387],\n",
       "       [ 0.02256165,  0.10901815, -0.23604634, ..., -0.09470864,\n",
       "        -0.01644576, -0.02838291],\n",
       "       ...,\n",
       "       [-0.07383361, -0.3003279 , -0.00087884, ..., -0.02625119,\n",
       "         0.09066369,  0.17905125],\n",
       "       [ 0.06527498, -0.002171  ,  0.00582   , ..., -0.17048995,\n",
       "         0.3254559 , -0.03375199],\n",
       "       [-0.16227451,  0.03748287, -0.02612683, ...,  0.03958465,\n",
       "         0.26742777, -0.07449891]])"
      ]
     },
     "execution_count": 27,
     "metadata": {},
     "output_type": "execute_result"
    }
   ],
   "source": [
    "X_nnlm"
   ]
  },
  {
   "cell_type": "code",
   "execution_count": 28,
   "metadata": {},
   "outputs": [
    {
     "data": {
      "text/plain": [
       "array(['teupah selatan', 'simeulue timur', 'teupah barat', ..., 'zurafah',\n",
       "       'zuriah', 'zus'], dtype='<U44')"
      ]
     },
     "execution_count": 28,
     "metadata": {},
     "output_type": "execute_result"
    }
   ],
   "source": [
    "y_nnlm"
   ]
  },
  {
   "attachments": {},
   "cell_type": "markdown",
   "metadata": {},
   "source": [
    "## B. Model Training / Registering Data Into Model"
   ]
  },
  {
   "attachments": {},
   "cell_type": "markdown",
   "metadata": {},
   "source": [
    "### B.1. ANN Model"
   ]
  },
  {
   "cell_type": "code",
   "execution_count": 29,
   "metadata": {},
   "outputs": [],
   "source": [
    "ann_model_nnlm = ApproximateNearestNeighbor(min_size_split=100, distance_type=\"cosine-similarity\", n_tree = 1, random_state=123)\n",
    "ann_model_nnlm.fit(X = X_nnlm, y=y_nnlm)"
   ]
  },
  {
   "attachments": {},
   "cell_type": "markdown",
   "metadata": {},
   "source": [
    "### B.2. KNN Model"
   ]
  },
  {
   "cell_type": "code",
   "execution_count": 30,
   "metadata": {},
   "outputs": [],
   "source": [
    "knn_model_nnlm = KNearestNeighbor(distance_type=\"cosine-similarity\")\n",
    "knn_model_nnlm.fit(X = X_nnlm, y=y_nnlm)"
   ]
  },
  {
   "attachments": {},
   "cell_type": "markdown",
   "metadata": {},
   "source": [
    "## C. Model Testing / Searching Similar Items"
   ]
  },
  {
   "cell_type": "code",
   "execution_count": 24,
   "metadata": {},
   "outputs": [],
   "source": [
    "def search_similar_item(embedding_model : str,\n",
    "                        neighbors_model : object,\n",
    "                        text_input : str):\n",
    "    # generate embedding for text input\n",
    "    input_embed = embedding_model([text_input]).numpy().squeeze().tolist()\n",
    "\n",
    "    # search neighbors by embedding \n",
    "    similar_item = neighbors_model.find_similar_items(np.array([input_embed]))\n",
    "\n",
    "    return similar_item"
   ]
  },
  {
   "attachments": {},
   "cell_type": "markdown",
   "metadata": {},
   "source": [
    "### C.1. ANN Model"
   ]
  },
  {
   "cell_type": "code",
   "execution_count": 31,
   "metadata": {},
   "outputs": [
    {
     "data": {
      "text/plain": [
       "array(['kucing', 'monyet', 'binatang', 'tikus', 'hewan', 'burung',\n",
       "       'kelelawar', 'kera', 'kumbang', 'serangga'], dtype='<U44')"
      ]
     },
     "execution_count": 31,
     "metadata": {},
     "output_type": "execute_result"
    }
   ],
   "source": [
    "sim_item = search_similar_item(embedding_model=embedding_nnlm, neighbors_model=ann_model_nnlm, text_input=\"kucing\")\n",
    "sim_item"
   ]
  },
  {
   "attachments": {},
   "cell_type": "markdown",
   "metadata": {},
   "source": [
    "### C.2. KNN Model"
   ]
  },
  {
   "cell_type": "code",
   "execution_count": 13,
   "metadata": {},
   "outputs": [
    {
     "data": {
      "text/plain": [
       "array(['kucing', 'angsa', 'ular', 'anjing', 'batu kucing', 'monyet',\n",
       "       'kelinci', 'binatang', 'beruang', 'sumur kucing'], dtype='<U44')"
      ]
     },
     "execution_count": 13,
     "metadata": {},
     "output_type": "execute_result"
    }
   ],
   "source": [
    "sim_item_ = search_similar_item(embedding_model=embedding_nnlm, neighbors_model=knn_model_nnlm, text_input=\"kucing\")\n",
    "sim_item_"
   ]
  },
  {
   "attachments": {},
   "cell_type": "markdown",
   "metadata": {},
   "source": [
    "## D. Searching Time Comparison"
   ]
  },
  {
   "cell_type": "code",
   "execution_count": 14,
   "metadata": {},
   "outputs": [
    {
     "name": "stdout",
     "output_type": "stream",
     "text": [
      "16.1 ms ± 0 ns per loop (mean ± std. dev. of 1 run, 1,000 loops each)\n"
     ]
    }
   ],
   "source": [
    "%%timeit -r 1 -n 1000\n",
    "sim_item = search_similar_item(embedding_model=embedding_nnlm, neighbors_model=ann_model_nnlm, text_input=\"kucing\")"
   ]
  },
  {
   "cell_type": "code",
   "execution_count": 15,
   "metadata": {},
   "outputs": [
    {
     "name": "stdout",
     "output_type": "stream",
     "text": [
      "53.4 ms ± 0 ns per loop (mean ± std. dev. of 1 run, 1,000 loops each)\n"
     ]
    }
   ],
   "source": [
    "%%timeit -r 1 -n 1000\n",
    "sim_item_ = search_similar_item(embedding_model=embedding_nnlm, neighbors_model=knn_model_nnlm, text_input=\"kucing\")"
   ]
  }
 ],
 "metadata": {
  "kernelspec": {
   "display_name": "base",
   "language": "python",
   "name": "python3"
  },
  "language_info": {
   "codemirror_mode": {
    "name": "ipython",
    "version": 3
   },
   "file_extension": ".py",
   "mimetype": "text/x-python",
   "name": "python",
   "nbconvert_exporter": "python",
   "pygments_lexer": "ipython3",
   "version": "3.9.12"
  },
  "orig_nbformat": 4
 },
 "nbformat": 4,
 "nbformat_minor": 2
}
